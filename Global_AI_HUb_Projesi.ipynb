{
  "nbformat": 4,
  "nbformat_minor": 0,
  "metadata": {
    "colab": {
      "provenance": [],
      "toc_visible": true,
      "authorship_tag": "ABX9TyNmTm+/ApqVT/7gFj8bJeK6",
      "include_colab_link": true
    },
    "kernelspec": {
      "name": "python3",
      "display_name": "Python 3"
    },
    "language_info": {
      "name": "python"
    }
  },
  "cells": [
    {
      "cell_type": "markdown",
      "metadata": {
        "id": "view-in-github",
        "colab_type": "text"
      },
      "source": [
        "<a href=\"https://colab.research.google.com/github/Zeynepinciakduman/Zeynepinciakduman/blob/main/Global_AI_HUb_Projesi.ipynb\" target=\"_parent\"><img src=\"https://colab.research.google.com/assets/colab-badge.svg\" alt=\"Open In Colab\"/></a>"
      ]
    },
    {
      "cell_type": "code",
      "source": [
        "#Taş Kağı Makas Oyunu Projesi(Global AI Hub)"
      ],
      "metadata": {
        "id": "qwuZA7qVylpK"
      },
      "execution_count": null,
      "outputs": []
    },
    {
      "cell_type": "code",
      "source": [],
      "metadata": {
        "id": "gXzG6Rb93HzT"
      },
      "execution_count": null,
      "outputs": []
    },
    {
      "cell_type": "code",
      "source": [
        "import random\n",
        "\n",
        "class FantasyGame:\n",
        "    def __init__(self):\n",
        "        self.choices = [\"dragon\", \"wizard\", \"knight\", \"elf\", \"troll\"]\n",
        "        self.rules = {\n",
        "            \"dragon\": [\"knight\", \"elf\"],\n",
        "            \"wizard\": [\"dragon\", \"troll\"],\n",
        "            \"knight\": [\"wizard\", \"elf\"],\n",
        "            \"elf\": [\"dragon\", \"troll\"],\n",
        "            \"troll\": [\"wizard\", \"knight\"]\n",
        "        }\n",
        "\n",
        "#Taş kağı makas oyununa yeni bir soluk getirdim,karakter sayısı ve cinsini degiştirdim\n",
        "\n",
        "    def get_user_choice(self):\n",
        "        while True:\n",
        "            user_input = input(\"Enter dragon, wizard, knight, elf, or troll: \").lower()\n",
        "            if user_input in self.choices:\n",
        "                return user_input\n",
        "            print(\"Invalid input. Please enter dragon, wizard, knight, elf, or troll.\")\n",
        "\n",
        "    def get_computer_choice(self):\n",
        "        return random.choice(self.choices)\n",
        "\n",
        "    def determine_winner(self, user_choice, opponent_choice):\n",
        "        if user_choice == opponent_choice:\n",
        "            return \"tie\"\n",
        "        elif opponent_choice in self.rules[user_choice]:\n",
        "            return \"win\"\n",
        "        else:\n",
        "            return \"lose\"\n",
        "\n",
        "    def play_set(self):\n",
        "        user_choice = self.get_user_choice()\n",
        "        opponent_choice = self.get_computer_choice()\n",
        "\n",
        "        print(f\"Opponent chose: {opponent_choice}\")\n",
        "        result = self.determine_winner(user_choice, opponent_choice)\n",
        "\n",
        "        if result == \"tie\":\n",
        "            print(\"This set is a tie!\")\n",
        "        elif result == \"win\":\n",
        "            print(\"You won this set!\")\n",
        "        else:\n",
        "            print(\"You lost this set!\")\n",
        "\n",
        "        return result\n",
        "\n",
        "    def play_best_of_seven(self):\n",
        "        user_wins = 0\n",
        "        opponent_wins = 0\n",
        "\n",
        "        while user_wins < 3 and opponent_wins < 3:\n",
        "            result = self.play_set()\n",
        "            if result == \"win\":\n",
        "                user_wins += 1\n",
        "            elif result == \"lose\":\n",
        "                opponent_wins += 1\n",
        "\n",
        "            print(f\"Score - You: {user_wins}, Opponent: {opponent_wins}\")\n",
        "\n",
        "        if user_wins == 3:\n",
        "            print(\"Congratulations! You won the match!\")\n",
        "        else:\n",
        "            print(\"You lost the match.\")\n",
        "\n",
        "    def play_offline(self):\n",
        "        print(\"Starting offline game...\")\n",
        "        self.play_best_of_seven()\n",
        "#online seçeneği de tasarladım lakin süre aşımına uğrama sorunu başgösterdi,bu sorunu çözemedim.Oyunum offline bir oyun halini aldı.\n",
        "\n",
        "\n",
        "def main():\n",
        "    game = FantasyGame()\n",
        "    mode = input(\"Enter 'offline' for offline mode: \").strip().lower()\n",
        "    if mode == 'offline':\n",
        "        game.play_offline()\n",
        "    else:\n",
        "        print(\"Invalid mode selected.\")\n",
        "\n",
        "if __name__ == \"__main__\":\n",
        "    main()\n",
        "#Hayli eğlenceli ve uzun soluklu bir oyun oldu.Ayrıca fantastik avatarlar birçok kişinin ilgisini çekmeye müsait."
      ],
      "metadata": {
        "colab": {
          "base_uri": "https://localhost:8080/"
        },
        "id": "hXuChYQUylr-",
        "outputId": "612c9613-e2a0-488b-b710-0e2ac7135291"
      },
      "execution_count": 31,
      "outputs": [
        {
          "output_type": "stream",
          "name": "stdout",
          "text": [
            "Enter 'offline' for offline mode: offline\n",
            "Starting offline game...\n",
            "Enter dragon, wizard, knight, elf, or troll: troll\n",
            "Opponent chose: wizard\n",
            "You won this set!\n",
            "Score - You: 1, Opponent: 0\n",
            "Enter dragon, wizard, knight, elf, or troll: wizard\n",
            "Opponent chose: troll\n",
            "You won this set!\n",
            "Score - You: 2, Opponent: 0\n",
            "Enter dragon, wizard, knight, elf, or troll: elf\n",
            "Opponent chose: troll\n",
            "You won this set!\n",
            "Score - You: 3, Opponent: 0\n",
            "Congratulations! You won the match!\n"
          ]
        }
      ]
    }
  ]
}